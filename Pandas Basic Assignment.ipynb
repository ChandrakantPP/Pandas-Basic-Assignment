{
 "cells": [
  {
   "cell_type": "markdown",
   "id": "18e6e62d-501e-40d3-a1b1-90d5956b1e4a",
   "metadata": {},
   "source": [
    "Q.1> Create a Pandas Series that contains the following data: 4, 8, 15, 16, 23, and 42. Then, print the series."
   ]
  },
  {
   "cell_type": "code",
   "execution_count": 1,
   "id": "705a3d7f-0f29-41ef-8f9d-d4612aeb2c18",
   "metadata": {},
   "outputs": [
    {
     "name": "stdout",
     "output_type": "stream",
     "text": [
      "    0\n",
      "0   4\n",
      "1   8\n",
      "2  15\n",
      "3  16\n",
      "4  23\n",
      "5  42\n"
     ]
    }
   ],
   "source": [
    "import pandas as pd \n",
    "data = [4, 8, 15, 16, 23, 42]\n",
    "df = pd.DataFrame(data)\n",
    "print(df)"
   ]
  },
  {
   "cell_type": "markdown",
   "id": "f11abc40-3e4b-4b34-a855-caac4e3c9e97",
   "metadata": {},
   "source": [
    "Q.2> Create a variable of list type containing 10 elements in it, and apply pandas.Series function on the\n",
    "     variable print it."
   ]
  },
  {
   "cell_type": "code",
   "execution_count": 2,
   "id": "1d3c982b-6127-4094-9bbc-d3ebc3a4cd21",
   "metadata": {},
   "outputs": [
    {
     "name": "stdout",
     "output_type": "stream",
     "text": [
      "          0\n",
      "0   sarfraj\n",
      "1    abshar\n",
      "2  abhishek\n",
      "3    faizan\n",
      "4    hammad\n",
      "5      asif\n",
      "6   arsalan\n",
      "7      faiz\n",
      "8     nesat\n",
      "9     nemat\n"
     ]
    }
   ],
   "source": [
    "import pandas as pd \n",
    "data =  [\"sarfraj\" , \"abshar\" , \"abhishek\" , \"faizan\" , \"hammad\" , \"asif\" , \"arsalan\" , \"faiz\" , \"nesat\" ,\"nemat\"]\n",
    "df = pd.DataFrame(data)\n",
    "print(df)"
   ]
  },
  {
   "cell_type": "markdown",
   "id": "1a584ef2-109d-41f7-a458-d2ff7d0cf38a",
   "metadata": {},
   "source": [
    "Q.3> Create a Pandas DataFrame that contains the following data:\n",
    "     Then, print the DataFrame."
   ]
  },
  {
   "cell_type": "code",
   "execution_count": 3,
   "id": "acd915f7-af2d-4a35-9c34-6ddbb153969b",
   "metadata": {},
   "outputs": [
    {
     "name": "stdout",
     "output_type": "stream",
     "text": [
      "     Name  Age  Gender\n",
      "0   Alice   25  Female\n",
      "1     Bob   30    Male\n",
      "2  Claire   27  Female\n"
     ]
    }
   ],
   "source": [
    "import pandas as pd \n",
    "data = {'Name': ['Alice' ,  'Bob' ,  'Claire'],\n",
    "\n",
    "        'Age': [25, 30, 27],\n",
    "\n",
    "        'Gender': ['Female', 'Male', 'Female']}\n",
    "df = pd.DataFrame(data)\n",
    "print(df)"
   ]
  },
  {
   "cell_type": "markdown",
   "id": "a13310c4-f373-4056-8cff-d4ed76a1bcfe",
   "metadata": {},
   "source": [
    "Q.4> What is ‘DataFrame’ in pandas and how is it different from pandas.series? Explain with an example."
   ]
  },
  {
   "cell_type": "markdown",
   "id": "8073141c-2eef-4120-9af3-50f60b22e3e3",
   "metadata": {},
   "source": [
    "Ans:- In Pandas, a DataFrame is a two-dimensional labeled data structure with columns of potentially \n",
    "         different data types. It is similar to a spreadsheet  or a  SQL table. In a DataFrame , data is \n",
    "         organized in rows and columns, where each column can be considered as a Pandas Series.\n",
    "\n",
    "         On the other hand, a Series in Pandas is a one-dimensional labeled array that can contain data of any \n",
    "         data type, including integers, strings, and floating-point numbers. It is similar to a column in a \n",
    "         spreadsheet or a SQL table.\n",
    "\n",
    "         The main difference between a DataFrame and a Series is that a DataFrame is a two-dimensional data \n",
    "         structure with rows and columns, while a Series is a one-dimensional data structure with only one column.\n",
    "         Here's an example to illustrate the difference between a DataFrame and a Series:\n",
    "\n",
    "         Suppose we have the following data:\n",
    "         Name(Alice , Bob, Charlie) , Age(25, 3, 35) , Gender (Female,Male ,Male)\n",
    "         We can represent this data using a DataFrame in Pandas as follows:"
   ]
  },
  {
   "cell_type": "code",
   "execution_count": 4,
   "id": "040c6e37-4af8-4453-bfd5-78ba99e69757",
   "metadata": {},
   "outputs": [
    {
     "name": "stdout",
     "output_type": "stream",
     "text": [
      "      Name  Age  Gender\n",
      "0    Alice   25  Female\n",
      "1      Bob   30    Male\n",
      "2  Charlie   35    Male\n"
     ]
    }
   ],
   "source": [
    "import pandas as pd\n",
    "\n",
    "data = {'Name': ['Alice', 'Bob', 'Charlie'],\n",
    "        'Age': [25, 30, 35],\n",
    "        'Gender': ['Female', 'Male', 'Male']}\n",
    "\n",
    "df = pd.DataFrame(data)\n",
    "\n",
    "print(df)"
   ]
  },
  {
   "cell_type": "markdown",
   "id": "d73a4d2b-c245-4b06-b9bf-b1c34ad2f87a",
   "metadata": {},
   "source": [
    "Q5. What are some common functions you can use to manipulate data in a Pandas DataFrame? Can\n",
    "you give an example of when you might use one of these functions?"
   ]
  },
  {
   "cell_type": "markdown",
   "id": "17aa1d73-6f30-475b-b077-1620110d00af",
   "metadata": {},
   "source": [
    "# 1. head() and tail(): These functions are used to view the first and last n rows of a DataFrame, \n",
    "#    respectively. They can be useful for quickly getting a sense of what the data looks like.\n",
    "#   Example:\n",
    "import pandas as pd\n",
    "\n",
    "df = pd.read_csv('data.csv')\n",
    "\n",
    "# View the first 5 rows\n",
    "print(df.head())\n",
    "\n",
    "# View the last 5 rows\n",
    "print(df.tail())\n",
    "\n",
    "  # 2. describe(): This function provides a statistical summary of the DataFrame, including the count, \n",
    "    #    mean, standard deviation, minimum, and maximum values, among others.\n",
    "     #   Example:\n",
    "import pandas as pd\n",
    "\n",
    "df = pd.read_csv('data.csv')\n",
    "\n",
    "# Get a statistical summary of the DataFrame\n",
    "print(df.describe())\n",
    "\n",
    "    # 3. groupby(): This function is used to group data in a DataFrame based on one or more columns. \n",
    "     #   It can be useful for calculating aggregate statistics for different groups.\n",
    "      #  Example:\n",
    "import pandas as pd\n",
    "\n",
    "df = pd.read_csv('data.csv')\n",
    "\n",
    "# Group the data by the 'category' column and calculate the mean of the 'value' column\n",
    "grouped = df.groupby('category').mean()\n",
    "\n",
    "print(grouped)\n",
    "\n",
    "   #  4. sort_values(): This function is used to sort the rows of a DataFrame based on one or more columns.\n",
    "    # Example:\n",
    "import pandas as pd\n",
    "\n",
    "df = pd.read_csv('data.csv')\n",
    "\n",
    "# Sort the DataFrame by the 'value' column in descending order\n",
    "sorted_df = df.sort_values('value', ascending=False)\n",
    "\n",
    "print(sorted_df)"
   ]
  },
  {
   "cell_type": "markdown",
   "id": "a67b84aa-de38-4962-9450-75b276f3e167",
   "metadata": {},
   "source": [
    "Q6. Which of the following is mutable in nature Series, DataFrame, Panel?"
   ]
  },
  {
   "cell_type": "markdown",
   "id": "63c0ca0d-f510-49dc-8f31-91587a01e8c1",
   "metadata": {},
   "source": [
    " In Pandas, both Series and DataFrame are mutable in nature, while Panel is considered deprecated \n",
    "     and has been replaced by multi-dimensional arrays, such as numpy.ndarray or xarray.DataArray, \n",
    "     which are also mutable.\n",
    "\n",
    "     In a mutable object, the contents of the object can be modified after it is created. This means \n",
    "     that you can add, remove, or update elements in a Series or DataFrame after they are created."
   ]
  },
  {
   "cell_type": "markdown",
   "id": "d660adac-b886-4aa7-95d2-046f2b5d215d",
   "metadata": {},
   "source": [
    "Q.7> Create a DataFrame using multiple Series. Explain with an example."
   ]
  },
  {
   "cell_type": "code",
   "execution_count": 6,
   "id": "88ed3d8e-7016-4f43-884c-f2df64815b41",
   "metadata": {},
   "outputs": [
    {
     "name": "stdout",
     "output_type": "stream",
     "text": [
      "      Name  Age  Gender\n",
      "0    Alice   25  Female\n",
      "1      Bob   30    Male\n",
      "2  Charlie   35    Male\n",
      "3    David   40    Male\n",
      "4    Emily   45  Female\n"
     ]
    }
   ],
   "source": [
    "import pandas as pd\n",
    "\n",
    "# Create a Series for each column of data\n",
    "names = pd.Series(['Alice', 'Bob', 'Charlie', 'David', 'Emily'])\n",
    "ages = pd.Series([25, 30, 35, 40, 45])\n",
    "genders = pd.Series(['Female', 'Male', 'Male', 'Male', 'Female'])\n",
    "\n",
    "# Combine the Series into a DataFrame\n",
    "df = pd.DataFrame({'Name': names, 'Age': ages, 'Gender': genders})\n",
    "\n",
    "# Print the resulting DataFrame\n",
    "print(df)"
   ]
  }
 ],
 "metadata": {
  "kernelspec": {
   "display_name": "Python 3 (ipykernel)",
   "language": "python",
   "name": "python3"
  },
  "language_info": {
   "codemirror_mode": {
    "name": "ipython",
    "version": 3
   },
   "file_extension": ".py",
   "mimetype": "text/x-python",
   "name": "python",
   "nbconvert_exporter": "python",
   "pygments_lexer": "ipython3",
   "version": "3.10.8"
  }
 },
 "nbformat": 4,
 "nbformat_minor": 5
}
